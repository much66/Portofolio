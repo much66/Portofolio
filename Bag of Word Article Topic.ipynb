{
  "nbformat": 4,
  "nbformat_minor": 0,
  "metadata": {
    "colab": {
      "provenance": [],
      "toc_visible": true
    },
    "kernelspec": {
      "name": "python3",
      "display_name": "Python 3"
    },
    "language_info": {
      "name": "python"
    }
  },
  "cells": [
    {
      "cell_type": "markdown",
      "source": [
        "# Assignment 5 Text classification berdasarkan Bag-of-Words\n",
        "\n",
        "## Kelompok 4C\n",
        "Anggota :\n",
        "- Aditya Fadillah Aridwianto\n",
        "- Arif Muhamad Rifai\n",
        "- Eri Engelina Putri\n",
        "- Muhammad Arif\n",
        "- Nurlaila Saadah\n",
        "- Muhammad Yuka Anugrah\n",
        "\n"
      ],
      "metadata": {
        "id": "ImqCAKSTLCw_"
      }
    },
    {
      "cell_type": "code",
      "source": [
        "# Import terlebih dahulu library yang dibutuhkan\n",
        "\n",
        "import nltk\n",
        "nltk.download(\"popular\")\n",
        "from nltk.tokenize import sent_tokenize, word_tokenize\n",
        "from nltk.corpus import stopwords\n",
        "from nltk.stem import WordNetLemmatizer"
      ],
      "metadata": {
        "id": "xmjq4czER4Le"
      },
      "execution_count": null,
      "outputs": []
    },
    {
      "cell_type": "markdown",
      "source": [
        "# Implementation of Artificial Intelligence\n"
      ],
      "metadata": {
        "id": "q-XAUQclMMCg"
      }
    },
    {
      "cell_type": "markdown",
      "source": [
        "## Menambahkan 3 teks dengan topik olahraga, kesehatan dan keuangan"
      ],
      "metadata": {
        "id": "1O_yF3xmMOMK"
      }
    },
    {
      "cell_type": "code",
      "source": [
        "# Three texts with labeled topic\n",
        "text_sport = \"Joel Embiid led his Philadelphia 76ers squad to an inspired 125-114 Game 3 win over the New York Knicks, despite confirming after the game that he is being treated for a mild case of Bell’s palsy. The reigning NBA MVP scored a playoff career-high 50 points in the crucial victory to go along with eight rebounds and four assists, getting the 76ers on the board for the first time in this opening round series. Embiid explained after the game that he had started suffering from Bell’s palsy symptoms “a day or two” before Philadelphia’s Play-In tournament game against the Miami Heat on April 17. “I had bad migraines and thought it was nothing,” he told reporters. “It’s pretty annoying, you know, with the left side of my face, my mouth and my eye. So yeah, it’s been tough. “But I’m not a quitter, so gotta keep fighting. But yeah, it’s unfortunate. That’s the way I look at it. But it’s not an excuse. Gotta keep pushing.” Bell’s palsy is a condition that causes sudden weakness in facial muscles. It can cause one half of the face to appear to droop, a smile can be one-sided, and the eye on the affected side resists closing. The condition is normally temporary, but Embiid said that he had no timetable for a recovery, adding that it “could be weeks, could be months.” He also said that it had been affecting his vision and that he was putting drops in his eye to prevent it from becoming too dry, though he still managed to smile about the situation. “I got a beautiful face. I don’t like when my mouth is looking the other way,” said the Cameroon-born superstar. Embiid was involved in a moment of controversy in the first quarter after being knocked to the floor while on defense. He reached up and grabbed opposing center Mitchell Robinson’s leg, who was injured on the play and seen leaving the arena in a walking boot. Embiid was whistled for a flagrant 1 foul and insisted postgame that the incident was not intentional, though New York guard Donte DiVincenzo asserted that it was a “dirty” play. Embiid drives to the rim during the game. Embiid drives to the rim during the game. Matt Slocum/AP With the second-seeded Knicks winning the first two games of this Eastern Conference series, the Sixers needed a huge effort in Game 3 in front of their home fans. After the Knicks emerged from halftime with a slender three-point advantage, Embiid took over in a crucial third quarter, scoring 18 points and knocking down all four of his triples as Philly outscored New York by 16 in the quarter. Point guard Tyrese Maxey – who was named the NBA’s Most Improved Player on Wednesday – added 25 points for the Sixers while Kelly Oubre Jr. had 15. The Knicks were led by All-Star Jalen Brunson, who poured in 39 points and dished out 13 assists. Josh Hart also scored 20 for New York, but it was not enough to get over the line as the visitors fell, but still hold a 2-1 lead in the series. Lakers risk a sweep, Magic get in the win column Elsewhere on Thursday night, the reigning champion Denver Nuggets handled the Los Angeles Lakers on the road, beating LeBron James and Co. 112-105 to take a dominant 3-0 lead in the series. This matchup has so far been reminiscent of the 2023 Western Conference finals, which saw Denver sweep the Lakers 4-0. No team in NBA history has won a playoff series from 0-3 down, so LA seemingly has an insurmountable task on its hands. The Nuggets were led by Aaron Gordon with 29 points and had three other players score at least 20. The starters stuffed the stat sheet, with Gordon, Michael Porter Jr. and two-time MVP Nikola Jokić each grabbing double-digit rebounds in addition to their 20+ point hauls. Anthony Davis had 33 points and 15 boards while James and Austin Reaves scored 26 and 22 respectively in the loss and will be hoping that they can at least extend the series with a win in Game 4 on Saturday. Jokić battles Davis in a duel between two star big men. Jokić battles Davis in a duel between two star big men. Gary A. Vasquez/USA TODAY Sports/Reuters Back in the East, the Orlando Magic won a lopsided Game 3 against the Cleveland Cavaliers to pick up their first victory of the series. Led by 2022-23 Rookie of the Year Paolo Banchero, who had 31 points and 14 rebounds, the Magic routed the Cavs 121-83. Cleveland maintains a 2-1 lead in the series but will have to get over Thursday’s disappointment which saw their star backcourt duo of Darius Garland and Donovan Mitchell held to a combined 18 points.\"\n",
        "text_medical = \"There is no evidence that mRNA Covid vaccines cause fatal cardiac arrest or other deadly heart problems in teens and young adults, a Centers for Disease Control and Prevention report published Thursday shows. Ever since the vaccines from Pfizer and Moderna were authorized in late 2020, anti-vaccination groups in the U.S. have blamed the shots for fatal heart problems in young athletes. One of the most notorious examples of vaccine misinformation involves Buffalo Bills safety Damar Hamlin, 26, who in 2023 collapsed on “Monday Night Football” as a result of cardiac arrest. Hamlin was resuscitated on the field and eventually recovered. He returned to play for the Bills last season.  “When Damar Hamlin went down, immediately comments were getting made that it was possibly vaccine-related,” said study co-author Dr. Paul Cieslak, the medical director of communicable diseases and immunizations at Oregon Health Authority’s public health division. “This is kind of what we were trying to address with this analysis.”The findings in the new report come from the  analysis of nearly 1,300 death certificates of Oregon residents ages 16 to 30 who died from any heart condition or unknown reasons between June 1, 2021, and Dec. 31, 2022. During this time period, nearly 1 million teens and young adults in the state had gotten a Covid vaccine, the authors wrote. The authors refined their focus to people who got an mRNA Covid vaccine from Pfizer or Moderna and died within 100 days of being vaccinated. Out of 40 deaths that occurred among people who got an mRNA Covid vaccine, three occurred within that time frame. Two of the deaths were attributed to chronic underlying health conditions. The third death was recorded as an “undetermined natural cause,” with toxicology tests returning negative for alcohol, cannabis, methamphetamine or other illicit substances. The medical examiner could neither confirm nor exclude Covid vaccination as the cause of death; however, none of the death certificates attributed the fatalities to the vaccines. While it remains unclear whether the vaccine caused the third death, Cieslak noted that the analysis showed that 30 people died from Covid during the time frame, the majority of whom were not vaccinated. “When you’re balancing risks and benefits, you have to look at that and go, ‘You got to bet on the vaccine,’” he said. Dr. Leslie Cooper, chair of the cardiology department at the Mayo Clinic, who was not involved in the study, said the researchers were actually “quite generous” in their analysis, adding that the 100-day time frame following vaccination was a large one. “They went above and beyond to try and capture any possible cardiac death from vaccinations,” he said. Cardiac arrest occurs when the heart stops beating and pumping blood to the rest of the body. It’s not the same as a heart attack, which happens when blood flow to the heart’s muscle becomes limited or blocked, or myocarditis, which is an inflammation of the heart muscle.  For people under 35, the causes of cardiac arrest are often unclear. It could be the result of genetic defects or heart malfunctions, such as problems with the valves of the heart. Even with the lengthy time frame, Cooper added, the analysis shows that the risk of sudden death in young adults after being vaccinated is significantly lower than the risk of sudden cardiac death from all causes — about 1 in 500,000 per year, compared to 1 in 100,000 per year, according to his estimates. The data shows “no signal for any elevation in cardiac deaths associated with the Covid mRNA vaccines,” he said. “Their conclusions are quite reasonable.” No vaccine has ever been conclusively linked to sudden cardiac death, said Dr. Ofer Levy, the director of the Precision Vaccines Program at Boston Children’s Hospital. Although the mRNA vaccines have been linked to a small risk of myocarditis, the heart condition tends to be much milder than what is typically seen with traditional myocarditis from Covid infection, he added, and most people fully recover within a few days.  “This adds to evidence that people don’t drop dead from getting their mRNA Covid vaccines,” Levy said of the study. \"\n",
        "text_finance = \"Shoppers in recent years have embraced “buy now, pay later” loans as an easy, interest-free way to purchase everything from sweaters to concert tickets. The loans typically are not reported on consumers’ credit reports, however, or reflected in their credit scores. That has stoked concerns that users might be taking on an outsize amount of debt that is invisible to both lenders and financial regulators. So in February, when Apple announced it would start reporting loans made through its Apple Pay Later program to Experian, one of the three major U.S. credit bureaus, it looked like a watershed moment for the fast-growing “buy now, pay later” category. But none of the other major pay-later providers have followed Apple’s lead. And while credit bureaus and lenders say they are interested in finding a way to work together, the gulf between the two sides remains wide — so much so that some pay-later firms are exploring creating an alternative credit bureau to handle their loans.inside “I haven’t seen really meaningful progress,” said David Sykes, chief commercial officer of Klarna, one of the largest pay-later firms. “Buy now, pay later” loans allow consumers to pay for purchases over time, often in four installments over six weeks, interest free. They surged in popularity during the pandemic, when they helped fuel an online-shopping boom. The rapid growth has continued: The retail industry attributed its record-setting holiday sales in part to the popularity of pay-later products. But economists at Wells Fargo warned last year that “phantom debt” from pay-later loans “could create substantial problems for the consumer and the broader economy.” The credit bureaus argue that incorporating pay-later loans into the reporting system would benefit consumers, who could build credit by repaying the loans on time, and lenders, who would gain fuller insight into consumers’ borrowing. The pay-later providers agree — in theory. But they worry that reporting the loans would end up hurting their customers. Existing scoring models penalize borrowers who take out many loans in a short period. That could be a problem for the pay-later industry because, unlike credit card purchases, each pay-later transaction is treated as a loan. Some consumer advocates share that concern. “The credit reporting system is a system that assumes monthly payments, it assumes longer-term loans, and it just isn’t really cut out to handle ‘buy now, pay later,’” said Chi Chi Wu, senior attorney at the National Consumer Law Center. “It’s a square-peg, round-hole kind of thing.” The consumer reporting industry in the United States has evolved over the decades to become a complex web of independent and sometimes competing players. Financial institutions — banks, mortgage brokers, auto lenders and others — report information on loans to three major credit bureaus: Equifax, Experian and TransUnion. Those bureaus compile the data and provide it to lenders and consumers, and also to companies like FICO and VantageScore, which use it to produce credit scores. The major credit bureaus say they addressed the pay-later industry’s concerns more than two years ago when they created a category for the loans. That should allow FICO and VantageScore to adjust their models to account for those loans’ unique characteristics — and ultimately to incorporate them into credit scores without penalizing users. (For now, the loans would be included on consumers’ credit reports but not visible to lenders or incorporated into scoring models.) “It’s been a long road, but I think that we are finally hitting a turning point in the momentum toward getting the data reported,” said Liz Pagel, a senior vice president at TransUnion who oversees the company’s consumer lending business. Our business reporters. Times journalists are not allowed to have any direct financial stake in companies they cover. The pay-later industry, however, argues that the credit-reporting system still isn’t ready. For one thing, the credit bureaus primarily receive data from lenders monthly, whereas pay-later loans are typically paid biweekly. (All three major credit bureaus said that while monthly reporting was the default, lenders could report more frequently if they wish.) “It’s just not fit-for-purpose yet,” Mr. Sykes of Klarna said. “And we haven’t seen anything from the bureaus that suggest it’s about to be.” Klarna reports loans to TransUnion and Experian in Britain, where the system works somewhat differently. A rival, Affirm, reports some longer-term loans to Experian in the United States and says it hopes to report shorter-term loans “eventually.” Other major pay-later providers, like Afterpay, PayPal and Zip, said their concerns with the credit reporting system’s handling of pay-later loans had not been resolved. “Our members continue to say it’s still inadequate,” said Penny Lee, president of the Financial Technology Association, which represents many of the largest pay-later companies. That argument took a hit in February, however, when Apple announced that it would begin reporting loans made through its “Apple Pay Later” product — essentially a copy of the pay-in-four loans offered by Klarna, Afterpay and similar firms — to Experian. Apple declined to comment, but in an earlier news release said that while the loans would not immediately be incorporated into credit scores, it saw the move as a step toward “providing users with the opportunity to further build their credit.” Silvio Tavares, chief executive of VantageScore, said in an interview that Apple’s announcement showed the credit-reporting system’s ability to handle pay-later loans. “It’s tough to be more sophisticated than Apple,” he said. Far from joining Apple, however, pay-later providers appear to be exploring a system outside the traditional credit reporting infrastructure. Last year, two former industry executives founded Qlarifi, a data-aggregation platform specifically for pay-later loans. (Mr. Sykes of Klarna is an investor.) Alex Naughton, who left Klarna last year to help found Qlarifi and is now its chief executive, portrays the company as a nimble, more tech-savvy credit-reporting approach. It will be able to collect and share data in real time rather than monthly, the standard for the major credit bureaus. “I don’t think the existing infrastructure is able to adapt as quickly,” he said. The lenders and the credit agencies agree that pay-later loans are unlikely to remain outside the credit scoring system forever. But it is unclear what will break the logjam. Ultimately, industry experts said, it will probably boil down to one of two things: Either regulators will force pay-later firms to start reporting or market forces will. “Either it’s going to be a market shift or it’s going to be a regulatory shift,” said Shane Foster, a lawyer at Greenberg Traurig who specializes in financial regulation. Regulatory action seems unlikely soon, at least at the federal level. The Consumer Financial Protection Bureau has hinted that it would like to see pay-later loans incorporated into the credit reporting system. But while the agency oversees the credit reporting industry — enforcing policies to ensure that the data is accurate and that consumer rights are protected — it hasn’t tried to require private companies to provide data to the bureaus. Several states, including California, have taken action to regulate the pay-later industry, and others, including New York, are considering doing so. But those efforts wouldn’t immediately require the loans to be reported to credit bureaus. Banks and other traditional lenders report to the credit bureaus because the data is helpful in lending decisions and because it provides a stick to encourage borrowers to repay: If they don’t, their credit scores will suffer. Pay-later providers may not feel much pressure to begin reporting because their business is growing and most consumers are making their payments, said Ted Rossman, senior industry analyst at Bankrate. But if the economy slows and more consumers start falling behind on payments, lenders might decide they need to join the credit reporting system to judge borrowers’ reliability. “Delinquencies are pretty low, the job market’s been solid, so maybe that’s not created the same urgency,” he said. “‘Buy now, pay later’ has yet to have its real delinquency reckoning. People keep warning about it. Maybe that will ultimately be what spurs change here.”\""
      ],
      "metadata": {
        "id": "zORNVCyJlOAM"
      },
      "execution_count": null,
      "outputs": []
    },
    {
      "cell_type": "markdown",
      "source": [
        "\n",
        "Text classification berdasarkan Bag-of-Words\n",
        "* Tiga variabel dibuat untuk masing-masing teks dengan topik yang berbeda: olahraga, kesehatan, dan keuangan. Proses dimulai dengan tokenisasi, yaitu memecah teks menjadi bagian-bagian lebih kecil seperti kata-kata, frasa, atau tanda baca, diikuti dengan lematisasi untuk mengubah kata-kata menjadi bentuk dasar mereka. Setelah itu, dilakukan penghilangan stopwords, kata-kata umum yang tidak memberikan informasi signifikan. Selanjutnya, hasilnya dijadikan string untuk mempermudah pemrosesan lebih lanjut. Terakhir, kata-kata duplikat dihilangkan dari teks yang telah dijadikan string. Langkah-langkah ini membantu menghasilkan teks yang lebih bersih, terstruktur, dan relevan untuk digunakan dalam analisis atau pembuatan model terkait dengan topik yang dibahas dalam setiap teks.\n",
        "\n",
        "\n",
        "\n",
        "\n",
        "\n"
      ],
      "metadata": {
        "id": "7p2FplD_3hKO"
      }
    },
    {
      "cell_type": "markdown",
      "source": [
        "## Melihat Bow dan Vektor Bow untuk setiap topik"
      ],
      "metadata": {
        "id": "te5myqW-MaDR"
      }
    },
    {
      "cell_type": "code",
      "source": [
        "lemmatizer = WordNetLemmatizer() ## Create object for lemmatizer\n",
        "\n",
        "texts = [text_sport, text_medical, text_finance]\n",
        "\n",
        "# Inisialisasi BoW keys dan vektor BoW untuk setiap topik\n",
        "bow_keys_sport = []\n",
        "bow_keys_medical = []\n",
        "bow_keys_finance = []\n",
        "bow_vectors_sport = []\n",
        "bow_vectors_medical = []\n",
        "bow_vectors_finance = []\n",
        "\n",
        "# Proses preprocessing dan pembentukan BoW serta vektor BoW untuk setiap topik\n",
        "for idx, text in enumerate(texts):\n",
        "    # Tokenisasi teks\n",
        "    words = word_tokenize(text)\n",
        "\n",
        "    # Lematisasi dan penghapusan stopwords\n",
        "    words = [lemmatizer.lemmatize(word) for word in words if word.lower() not in set(stopwords.words('english'))]\n",
        "\n",
        "    # Hitung vektor BoW untuk teks saat ini\n",
        "    bow_vector = {key: 0 for key in set(words)}\n",
        "    for word in words:\n",
        "        bow_vector[word] += 1\n",
        "\n",
        "    # Tambahkan BoW keys dan vektor BoW ke dalam list yang sesuai dengan topik\n",
        "    if idx == 0:\n",
        "        bow_keys_sport += list(bow_vector.keys())\n",
        "        bow_vectors_sport.append(bow_vector)\n",
        "    elif idx == 1:\n",
        "        bow_keys_medical += list(bow_vector.keys())\n",
        "        bow_vectors_medical.append(bow_vector)\n",
        "    elif idx == 2:\n",
        "        bow_keys_finance += list(bow_vector.keys())\n",
        "        bow_vectors_finance.append(bow_vector)\n",
        "\n",
        "# Print BoW keys untuk setiap topik\n",
        "print(\"BoW Keys for Sport Topic:\", set(bow_keys_sport))\n",
        "print(\"BoW Keys for Medical Topic:\", set(bow_keys_medical))\n",
        "print(\"BoW Keys for Finance Topic:\", set(bow_keys_finance))\n",
        "print()\n",
        "\n",
        "# Print vektor BoW yang memiliki nilai lebih dari 0 untuk setiap topik\n",
        "print(\"Vector BoW for Sport Topic:\")\n",
        "for bow_vector in bow_vectors_sport:\n",
        "    filtered_vector = [value for value in bow_vector.values() if value > 0]\n",
        "    print(filtered_vector)\n",
        "\n",
        "print(\"Vector BoW for Medical Topic:\")\n",
        "for bow_vector in bow_vectors_medical:\n",
        "    filtered_vector = [value for value in bow_vector.values() if value > 0]\n",
        "    print(filtered_vector)\n",
        "\n",
        "print(\"Vector BoW for Finance Topic:\")\n",
        "for bow_vector in bow_vectors_finance:\n",
        "    filtered_vector = [value for value in bow_vector.values() if value > 0]\n",
        "    print(filtered_vector)"
      ],
      "metadata": {
        "colab": {
          "base_uri": "https://localhost:8080/"
        },
        "id": "sMOR1wpmejZd",
        "outputId": "f332d538-3df7-49eb-f63b-b3ca52063be4"
      },
      "execution_count": null,
      "outputs": [
        {
          "output_type": "stream",
          "name": "stdout",
          "text": [
            "BoW Keys for Sport Topic: {'win', 'said', 'game', '26', 'bad', 'assist', 'third', 'sweep', 'boot', 'go', 'yeah', 'droop', 'point', 'scoring', '16', 'Co.', 'opening', 'keep', 'dished', 'side', '14', 'big', 'palsy', 'grabbed', 'Jalen', 'months.', 'Bell', 'though', 'guard', 'Slocum/AP', 'Donovan', 'Nikola', 'first', 'New', 'extend', 'muscle', 'like', 'timetable', 'play', 'Led', 'tough', 'reporter', 'look', 'Matt', 'Thursday', 'rebound', 'Conference', 'Maxey', 'smile', 'symptom', 'victory', 'Porter', 'maintains', '31', '25', 'one-sided', 'Point', 'held', 'winning', 'Davis', 'fighting', 'quarter', '29', 'Aaron', 'crucial', 'Improved', 'LA', 'thought', 'Cavs', 'starter', '112-105', 'stat', 'managed', 'Banchero', 'A.', '39', '76ers', 'vision', 'addition', '2023', 'postgame', 'risk', 'affected', '“', 'Sports/Reuters', 'road', 'inspired', 'home', 'loss', 'seen', '18', 'seemingly', 'incident', 'along', 'Miami', 'injured', 'Rookie', 'involved', 'pick', '50', 'excuse', 'Michael', 'Hart', 'needed', 'column', 'scored', 'far', 'Los', 'arena', 'Lakers', 'Darius', 'beautiful', 'dirty', 'dominant', 'Brunson', 'second-seeded', 'Mitchell', 'Tyrese', 'Jokić', '4-0', 'enough', 'dry', 'named', 'East', 'routed', 'normally', 'Vasquez/USA', 'looking', '125-114', 'board', 'insisted', 'history', 'hold', 'Sixers', 'hand', 'migraine', 'fell', 'Eastern', 'prevent', 'asserted', 'foul', 'affecting', 'eye', 'took', 'Knicks', 'playoff', 'moment', '1', 'Oubre', 'Nuggets', 'mild', 'still', 'duo', '2-1', 'Philadelphia', 'floor', 'day', 'face', 'Gary', 'opposing', 'Jr.', 'April', '3', 'confirming', 'time', 'MVP', '17', 'battle', 'resists', 'know', 'recovery', 'Game', 'led', 'getting', 'situation', 'controversy', 'explained', 'career-high', 'unfortunate', 'saw', 'task', 'Gordon', 'case', 'huge', 'half', '121-83', 'three-point', 'added', 'Orlando', 'becoming', 'haul', 'facial', 'rim', 'leg', 'Joel', 'player', 'squad', '’', 'eight', 'poured', 'walking', 'DiVincenzo', 'star', 'knocking', '22', 'Magic', 'triple', 'handled', 'line', 'stuffed', 'respectively', '.', 'Back', 'got', 'weakness', 'combined', 'Garland', ',', 'beating', 'cause', '15', 'despite', '”', 'two-time', 'Paolo', 'Saturday', '33', 'one', 'Heat', 'knocked', 'Elsewhere', 'Kelly', 'Reaves', 'lopsided', 'appear', 'night', 'intentional', 'final', 'Western', 'quitter', '20', '–', 'Player', 'pretty', 'NBA', 'Got', 'Josh', 'men', 'drive', 'whistled', 'leaving', 'adding', 'Austin', 'grabbing', 'could', '4', 'temporary', 'putting', 'All-Star', 'condition', 'Robinson', 'sheet', 'treated', 'reminiscent', 'York', 'week', 'mouth', 'double-digit', 'also', 'TODAY', '3-0', 'Wednesday', 'advantage', 'emerged', 'front', 'pushing.', '13', '0-3', 'annoying', '2022-23', 'Cameroon-born', 'matchup', 'Cleveland', 'drop', 'Cavaliers', '20+', 'insurmountable', 'tournament', 'effort', 'flagrant', 'slender', 'hoping', 'champion', 'three', 'backcourt', 'take', 'duel', 'way', 'Year', 'told', 'center', 'fan', 'LeBron', 'Play-In', 'sudden', 'Embiid', 'round', 'left', 'ta', 'closing', 'halftime', 'team', 'get', 'lead', 'least', 'Angeles', 'four', 'Philly', 'suffering', 'score', 'visitor', 'Denver', 'disappointment', 'James', 'reigning', 'reached', 'defense', 'Donte', 'superstar', 'Anthony', 'outscored', 'series', 'started', 'nothing', 'two'}\n",
            "BoW Keys for Medical Topic: {'among', 'could', 'Oregon', 'Mayo', 'said', 'reasonable.', 'late', 'cannabis', 'ever', 'seen', 'anti-vaccination', 'field', 'none', 'died', 'come', 'went', 'condition', 'chair', '1,300', 'body', 'Cieslak', 'Health', 'million', 'natural', '26', 'unknown', 'Control', 'published', 'attributed', 'conclusion', 'evidence', 'involved', 'third', 'trying', 'author', 'added', 'disease', 'young', 'balancing', 'go', 'pumping', 'whether', 'vaccine', 'report', '2022', 'exclude', 'deadly', 'arrest', 'possible', 'nearly', 'adult', 'myocarditis', 'Clinic', 'age', 'finding', 'safety', 'occurred', 'heart', 'happens', '100,000', 'June', 'confirm', 'negative', 'much', 'fully', 'since', 'typically', '35', 'blood', '16', 'Vaccines', 'milder', 'One', 'capture', 'Centers', 'comment', '’', 'attack', 'according', 'occurs', 'drop', 'Ever', 'death', 'beyond', 'example', 'showed', 'gotten', 'Buffalo', 'Ofer', 'Moderna', 'often', 'new', 'recorded', 'address', 'year', 'flow', 'three', 'returned', 'Cooper', '.', 'Cardiac', 'collapsed', 'Levy', 'researcher', '100-day', 'remains', 'per', 'blamed', 'Dr.', 'data', 'got', 'Leslie', 'Even', 'immunization', 'teen', 'analysis.', 'undetermined', '40', 'methamphetamine', 'fatal', 'kind', 'frame', 'cardiology', 'period', 'muscle', 'Two', 'Hamlin', 'eventually', 'study', ',', '2020', 'play', 'Prevention', 'vaccination', 'caused', 'large', 'beating', 'cause', 'generous', 'Disease', 'show', 'compared', 'unclear', 'malfunction', 'group', 'quite', 'look', 'lower', 'associated', '”', 'illicit', 'Hospital', 'shot', 'add', 'authorized', '1', 'alcohol', 'Authority', 'Thursday', 'actually', 'involves', 'department', 'one', 'Program', 'recover', 'sudden', 'defect', 'rest', 'resuscitated', 'reason', 'valve', 'possibly', 'examiner', 'focus', 'underlying', 'substance', 'health', 'last', 'infection', '31', 'tends', 'neither', 'signal', 'day', 'benefit', 'Precision', 'cardiac', 'fatality', 'division', 'following', 'Football', '2021', 'Pfizer', 'within', 'Children', 'medical', 'immediately', 'public', 'people', 'Bills', 'Paul', 'Covid', ';', 'elevation', 'Dec.', 'director', 'Boston', 'state', 'resident', 'season', '500,000', 'Monday', 'certificate', '100', 'bet', 'Although', 'vaccinated', 'becomes', 'estimate', 'result', 'chronic', 'small', '—', 'traditional', 'blocked', 'made', 'limited', 'toxicology', 'time', 'misinformation', 'vaccine-related', 'wrote', 'inflammation', 'mRNA', '‘', 'notorious', 'communicable', 'majority', 'try', 'genetic', 'problem', '2023', 'co-author', 'test', 'however', 'recovered', 'lengthy', 'conclusively', 'risk', 'analysis', 'dead', '30', 'stop', '“', 'noted', 'Damar', 'getting', 'Night', 'adding', 'U.S.', 'linked', 'refined', 'athlete', 'returning', 'significantly'}\n",
            "BoW Keys for Finance Topic: {'phantom', 'auto', 'helpful', 'said', 'outsize', 'broker', 'whereas', 'alternative', 'gain', 'warned', 'David', 'executive', 'Times', 'expert', 'founded', 'Ted', 'credit.', 'California', 'concern', 'Naughton', 'approach', 'may', 'bureau', 'borrower', 'without', 'borrowing', 'interest-free', 'journalist', 'major', 'point', 'scoring', 'interest', 'longer-term', 'be.', 'news', 'fuel', 'action', 'keep', 'Regulatory', 'require', 'Rossman', 'followed', 'real', 'purchase', 'side', 'showed', 'unlikely', 'Qlarifi', 'Far', 'ultimately', 'default', 'use', 'continued', 'reliability', 'firm', 'easy', 'retail', 'monthly', 'chief', 'allowed', 'rather', 'data', 'eventually.', 'Technology', 'New', 'rival', 'anything', 'kind', 'watershed', 'period', 'like', 'yet', 'growing', 'People', 'announced', 'right', 'compile', 'February', 'move', 'program', 'falling', 'hurting', 'tough', 'reporter', 'consumer', 'member', 'substantial', 'gulf', 'Financial', 'short', 'last', 'provider', 'VantageScore', 'benefit', 'essentially', 'resolved', 'Zip', 'say', 'boom', 'shift', 'assumes', 'wide', 'Pagel', 'PayPal', '—', 'inadequate', 'fast-growing', 'rapid', 'soon', 'primarily', 'decision', 'Fargo', 'slows', 'concert', 'bank', 'help', 'ticket', 'tech-savvy', 'Shoppers', '“', 'Penny', 'accurate', 'frequently', 'road', 'level', 'embraced', 'States', 'transaction', 'others', 'portrays', 'seen', 'hinted', 'Pay-later', 'decade', 'meaningful', 'attributed', 'complex', 'characteristic', 'worry', 'Equifax', 'seems', 'product', 'part', 'mortgage', 'progress', 'round-hole', 'finding', 'officer', 'Last', 'category', 'Delinquencies', 'Sykes', 'build', 'Greenberg', 'decide', 'system', 'Mr.', 'web', 'advocate', 'comment', 'largest', 'reporting', 'Later', '(', 'card', 'United', 'adjust', 'long', 'Experian', 'analyst', 'pay', 'see', 'differently', 'Center', 'surged', 'represents', 'economy.', 'considering', 'customer', 'lending', 'thing.', 'spur', 'unclear', 'Lee', 'took', 'exploring', 'ability', 'vice', 'square-peg', 'Ultimately', 'moment', 'providing', 'pay-in-four', 'adapt', 'amount', 'still', 'interview', 'ensure', 'six', 'buy', 'growth', 'Wells', 'produce', 'data-aggregation', 'stoked', 'agency', 'forever', 'Britain', 'Shane', 'Bankrate', 'change', 'judge', 'somewhat', 'infrastructure', 'might', 'incorporating', 'Bureau', 'time', 'later', 'problem', 'however', 'shorter-term', 'feel', 'argues', 'Pay', 'getting', 'U.S.', 'earlier', 'saw', 'copy', 'Chi', 'similar', 'market', 'argument', 'economy', 'none', 'economist', 'policy', 'reflected', 'Alex', 'pay-later', 'start', 'penalize', 'interested', 'commercial', 'independent', 'wish', 'TransUnion', 'loans.inside', 'creating', ':', 'sale', 'regulate', 'ago', 'Banks', 'biweekly', 'competing', 'user', 'much', 'begin', 'typically', 'player', 'private', 'would', 'urgency', 'toward', 'helped', 'including', 'stake', '’', 'suffer', 'low', 'become', 'Several', 'pressure', 'warning', 'Silvio', 'Klarna', 'handling', 'president', 'fuller', 'announcement', 'turning', '.', 'repaying', 'information', 'remains', 'installment', 'hitting', 'going', 'work', 'finally', 'Liz', 'receive', 'existing', 'theory', 'agree', ',', 'opportunity', 'quickly', 'invisible', 'able', 'end', 'business', 'taking', 'reckoning', '”', 'provide', 'one', 'Buy', 'repay', 'Afterpay', 'unique', 'appear', 'logjam', 'provides', 'momentum', 'pandemic', 'solid', 'Tavares', 'debt', 'release', 'state', 'lender', 'join', 'many', 'traditional', 'credit-reporting', 'force', 'need', 'made', 'pretty', 'Existing', '‘', 'former', 'unlike', 'free', 'ready', 'lawyer', 'Consumer', 'incorporated', 'industry', 'outside', 'Maybe', 'could', 'enforcing', 'company', 'taken', 'encourage', 'regulation', 'created', 'found', 'break', 'oversees', 'treated', 'loan', 'York', 'included', 'insight', 'week', 'also', 'standard', 'continue', 'online-shopping', 'penalizing', 'report', 'argue', 'National', 'institution', 'really', 'Law', 'share', 'platform', 'holiday', 'popularity', ')', 'making', 'account', 'sweater', 'attorney', 'regulator', 'allow', 'step', 'credit', 'Either', 'remain', 'handle', 'effort', 'often', 'cut', 'together', 'year', 'three', 'specializes', 'Wu', 'hope', 'paid', 'suggest', 'incorporate', 'sometimes', 'take', 'sophisticated', 'way', 'evolved', 'boil', 'investor', 'recent', 'addressed', 'collect', 'record-setting', 'cover', 'Traurig', 'stick', 'Foster', 'looked', 'federal', 'direct', 'everything', 'hit', 'specifically', 'Apple', 'create', 'visible', 'Affirm', 'offered', 'left', 'reported', 'immediately', 'lead', 'thing', 'regulatory', 'joining', 'least', 'four', 'behind', 'score', 'fit-for-purpose', 'Protection', 'maybe', 'broader', 'job', 'declined', 'Association', 'probably', 'financial', 'FICO', 'protected', 'think', 'nimble', 'payment', 'tried', 'senior', 'delinquency', 'two', 'model'}\n",
            "\n",
            "Vector BoW for Sport Topic:\n",
            "[3, 3, 6, 1, 1, 2, 1, 2, 1, 1, 2, 1, 9, 1, 1, 1, 1, 2, 1, 2, 1, 2, 3, 1, 1, 1, 3, 2, 2, 1, 1, 1, 4, 4, 1, 1, 1, 1, 2, 1, 1, 1, 1, 1, 2, 3, 2, 1, 2, 1, 2, 1, 1, 1, 1, 1, 1, 1, 1, 3, 1, 3, 1, 1, 2, 1, 1, 1, 1, 1, 1, 1, 1, 1, 1, 1, 2, 1, 1, 1, 1, 1, 1, 7, 1, 1, 1, 1, 1, 1, 2, 1, 1, 1, 1, 1, 1, 1, 1, 1, 1, 1, 1, 1, 1, 3, 1, 1, 1, 3, 1, 1, 1, 1, 1, 1, 2, 1, 3, 1, 1, 1, 1, 1, 1, 1, 1, 1, 1, 2, 1, 1, 1, 2, 1, 1, 1, 1, 1, 1, 1, 1, 3, 1, 4, 2, 1, 1, 1, 2, 1, 2, 1, 2, 2, 1, 1, 3, 1, 1, 2, 1, 3, 1, 1, 2, 1, 2, 1, 1, 1, 4, 3, 1, 1, 1, 1, 1, 1, 2, 1, 2, 1, 1, 1, 1, 1, 1, 1, 1, 1, 1, 2, 1, 1, 1, 1, 14, 1, 1, 1, 1, 3, 1, 1, 3, 1, 1, 1, 1, 1, 36, 1, 2, 1, 1, 1, 34, 1, 2, 2, 1, 6, 1, 1, 1, 1, 1, 1, 1, 1, 1, 1, 1, 1, 1, 1, 1, 1, 1, 2, 2, 1, 1, 3, 1, 1, 2, 2, 1, 1, 1, 1, 1, 2, 1, 1, 1, 1, 2, 1, 1, 1, 1, 4, 1, 2, 1, 2, 1, 1, 1, 1, 1, 1, 1, 1, 1, 1, 1, 1, 1, 2, 1, 1, 1, 1, 1, 1, 1, 1, 1, 1, 1, 1, 1, 2, 2, 1, 1, 1, 1, 1, 1, 1, 8, 1, 1, 2, 1, 1, 1, 3, 3, 2, 1, 2, 1, 1, 1, 1, 2, 1, 2, 2, 1, 1, 1, 1, 1, 1, 8, 1, 1, 4]\n",
            "Vector BoW for Medical Topic:\n",
            "[1, 2, 2, 1, 7, 1, 1, 1, 1, 1, 1, 1, 1, 1, 2, 3, 3, 1, 1, 1, 2, 1, 1, 1, 1, 1, 1, 1, 2, 1, 2, 1, 2, 1, 2, 2, 1, 4, 1, 1, 1, 1, 13, 2, 1, 1, 1, 4, 1, 2, 3, 3, 1, 1, 1, 1, 2, 10, 1, 1, 1, 1, 1, 1, 1, 1, 1, 1, 2, 1, 1, 1, 1, 1, 1, 1, 7, 1, 1, 1, 1, 1, 12, 1, 1, 1, 1, 1, 1, 2, 1, 1, 1, 1, 2, 1, 1, 1, 2, 26, 1, 1, 2, 1, 1, 1, 2, 1, 3, 1, 3, 1, 1, 1, 2, 1, 1, 1, 1, 2, 1, 4, 1, 1, 2, 1, 3, 1, 3, 43, 1, 1, 1, 3, 1, 1, 1, 5, 1, 1, 3, 1, 2, 1, 1, 2, 1, 1, 1, 10, 1, 1, 1, 1, 1, 4, 1, 1, 1, 1, 1, 1, 1, 1, 1, 3, 1, 1, 1, 1, 1, 1, 1, 1, 1, 1, 2, 1, 1, 1, 1, 1, 1, 2, 1, 1, 7, 1, 1, 1, 1, 1, 2, 3, 1, 2, 1, 1, 6, 2, 1, 9, 1, 1, 1, 2, 1, 1, 1, 1, 1, 1, 2, 1, 1, 1, 3, 1, 1, 2, 1, 1, 1, 1, 1, 1, 1, 1, 5, 1, 1, 1, 1, 6, 1, 1, 1, 1, 1, 1, 3, 1, 1, 1, 1, 1, 1, 1, 4, 4, 1, 2, 1, 10, 1, 2, 2, 1, 1, 1, 2, 1, 1, 1, 1]\n",
            "Vector BoW for Finance Topic:\n",
            "[1, 1, 1, 15, 1, 1, 1, 1, 1, 1, 1, 3, 1, 1, 1, 1, 1, 1, 4, 1, 1, 1, 14, 3, 1, 1, 1, 1, 7, 1, 3, 1, 2, 1, 1, 1, 2, 1, 1, 2, 1, 1, 2, 3, 1, 1, 2, 2, 1, 2, 1, 1, 1, 1, 4, 1, 1, 4, 3, 1, 1, 7, 1, 1, 1, 1, 1, 1, 1, 1, 4, 2, 1, 1, 2, 1, 1, 2, 1, 1, 1, 1, 1, 1, 13, 1, 1, 1, 3, 1, 2, 5, 3, 1, 1, 1, 1, 4, 1, 2, 2, 1, 1, 1, 9, 1, 1, 1, 1, 1, 1, 1, 1, 1, 1, 1, 1, 1, 1, 20, 1, 1, 1, 1, 1, 1, 2, 1, 2, 1, 2, 1, 1, 1, 1, 1, 1, 1, 1, 1, 1, 2, 1, 1, 1, 1, 1, 1, 1, 2, 1, 3, 2, 1, 1, 11, 2, 1, 1, 1, 2, 14, 2, 3, 1, 2, 1, 1, 5, 1, 6, 1, 1, 1, 1, 1, 1, 1, 1, 2, 1, 1, 1, 1, 1, 2, 1, 1, 1, 1, 1, 1, 1, 1, 1, 2, 1, 1, 1, 3, 1, 1, 1, 1, 1, 2, 1, 1, 1, 1, 1, 1, 1, 2, 2, 1, 1, 3, 5, 2, 4, 1, 1, 1, 2, 1, 1, 1, 1, 1, 2, 1, 3, 1, 1, 1, 1, 1, 1, 1, 22, 3, 1, 1, 1, 1, 1, 3, 1, 1, 4, 1, 1, 1, 1, 1, 1, 3, 2, 2, 2, 1, 1, 8, 1, 2, 1, 2, 1, 31, 1, 1, 1, 1, 1, 1, 1, 6, 1, 2, 1, 1, 1, 57, 1, 1, 1, 1, 1, 2, 2, 1, 1, 1, 1, 1, 2, 86, 1, 1, 1, 2, 1, 3, 1, 1, 20, 2, 4, 2, 1, 2, 1, 1, 1, 1, 1, 1, 1, 1, 2, 1, 1, 11, 1, 2, 2, 3, 2, 1, 2, 1, 1, 2, 1, 1, 1, 1, 1, 2, 3, 10, 2, 1, 4, 1, 6, 1, 1, 1, 2, 1, 1, 2, 1, 28, 1, 1, 1, 1, 1, 1, 1, 1, 1, 8, 1, 1, 1, 2, 1, 2, 1, 1, 2, 3, 1, 1, 1, 1, 2, 2, 1, 28, 2, 1, 3, 1, 1, 1, 1, 5, 3, 1, 1, 1, 1, 1, 1, 1, 1, 1, 2, 1, 1, 1, 1, 1, 1, 1, 1, 1, 1, 1, 1, 1, 1, 1, 1, 1, 9, 1, 1, 1, 1, 1, 3, 2, 1, 2, 1, 1, 1, 1, 1, 5, 1, 1, 1, 1, 1, 1, 1, 1, 3, 2, 1, 2, 1, 3, 1, 3, 1, 4, 3]\n"
          ]
        }
      ]
    },
    {
      "cell_type": "markdown",
      "source": [
        "## Membuat dan menggabungkan Bow setiap topik\n",
        "(indeks 0:Olahraga, 1:Kesehatan dan 2:Keuangan)"
      ],
      "metadata": {
        "id": "RaEwepGMMi4P"
      }
    },
    {
      "cell_type": "code",
      "source": [
        "bow_keys = []\n",
        "corpus_texts = []\n",
        "for text in texts:\n",
        "    words  = word_tokenize(text)\n",
        "    texts = [lemmatizer.lemmatize(word) for word in words if word not in set(stopwords.words('english'))]\n",
        "    bow_keys += texts\n",
        "    text = ' '.join(texts)\n",
        "    corpus_texts.append(text)\n",
        "bow_keys = set(bow_keys)\n",
        "print(bow_keys)   #### Cleaned Data\n",
        "print(corpus_texts)   #### Cleaned Data"
      ],
      "metadata": {
        "colab": {
          "base_uri": "https://localhost:8080/"
        },
        "id": "uhTjVG_Xk6h9",
        "outputId": "12499c13-e511-496c-ee82-d788f46d8b5b"
      },
      "execution_count": null,
      "outputs": [
        {
          "output_type": "stream",
          "name": "stdout",
          "text": [
            "{'phantom', 'among', 'auto', 'win', 'Oregon', 'helpful', 'said', 'field', 'outsize', 'broker', 'whereas', 'come', 'alternative', 'gain', 'game', 'natural', '26', 'warned', 'bad', 'unknown', 'Control', 'David', 'executive', 'Times', 'expert', 'assist', 'No', 'evidence', 'third', 'founded', 'Out', 'Ted', 'sweep', 'trying', 'credit.', 'California', 'boot', 'go', 'concern', 'Naughton', 'approach', 'yeah', 'may', 'bureau', 'droop', 'age', 'borrower', 'without', 'borrowing', 'So', 'interest-free', 'journalist', 'major', 'point', 'scoring', 'confirm', '16', 'negative', 'fully', 'Co.', 'interest', 'longer-term', 'blood', 'fuel', 'be.', 'opening', 'news', 'keep', 'dished', 'action', 'Vaccines', 'Regulatory', 'require', 'Rossman', 'followed', 'real', 'delinquency', 'side', 'purchase', 'beyond', '14', 'example', 'showed', 'gotten', 'unlikely', 'Buffalo', 'Qlarifi', 'Far', 'big', 'palsy', 'grabbed', 'ultimately', 'default', 'use', 'continued', 'reliability', 'firm', 'easy', 'Jalen', 'retail', 'Levy', 'monthly', 'months.', 'Bell', 'though', 'guard', 'Slocum/AP', 'Donovan', 'blamed', 'data', 'chief', 'Nikola', 'first', 'allowed', 'rather', 'eventually.', 'teen', 'Technology', '40', 'New', 'rival', 'anything', 'kind', 'watershed', 'extend', 'frame', 'muscle', 'period', 'like', 'yet', 'timetable', 'vaccination', 'play', 'growing', 'People', 'I', 'announced', 'right', 'compile', 'February', 'move', 'program', 'Disease', 'falling', 'Led', 'tough', 'hurting', 'reporter', 'consumer', 'look', 'Hospital', 'Matt', 'add', 'member', 'Authority', 'Thursday', 'rebound', 'Conference', 'involves', 'Maxey', 'substantial', 'defect', 'smile', 'valve', 'gulf', 'Financial', 'symptom', 'focus', 'victory', 'Porter', 'maintains', 'short', 'last', '31', '25', 'provider', 'one-sided', 'VantageScore', 'signal', 'benefit', 'Point', 'essentially', 'held', 'following', 'resolved', 'Zip', 'winning', 'Davis', 'say', 'boom', 'fighting', 'That', 'shift', 'It', 'assumes', 'wide', 'Boston', 'resident', 'quarter', 'Monday', '29', 'bet', 'Pagel', 'Aaron', 'crucial', 'Improved', 'LA', 'PayPal', '—', 'inadequate', 'thought', 'fast-growing', 'Cavs', 'blocked', 'rapid', 'starter', '112-105', 'stat', 'soon', 'primarily', 'decision', 'inflammation', 'managed', 'Banchero', 'A.', '39', 'Fargo', 'slows', 'concert', 'communicable', '76ers', 'vision', 'genetic', 'addition', '2023', 'postgame', 'recovered', 'bank', 'risk', 'affected', 'help', 'ticket', 'tech-savvy', 'Shoppers', '“', 'Sports/Reuters', 'Penny', 'accurate', 'frequently', 'road', 'inspired', 'home', 'level', 'refined', 'embraced', 'States', 'transaction', 'Our', 'others', 'portrays', 'loss', 'seen', 'reasonable.', '18', 'anti-vaccination', 'died', 'hinted', 'Pay-later', 'chair', '1,300', 'body', 'seemingly', 'incident', 'along', 'decade', 'Miami', 'meaningful', 'injured', 'attributed', 'complex', 'Rookie', 'characteristic', 'involved', 'worry', 'Equifax', 'Their', 'seems', 'pick', 'product', '50', 'excuse', 'balancing', 'part', 'Michael', 'Hart', 'deadly', 'needed', 'column', 'adult', 'myocarditis', 'scored', 'Clinic', 'progress', 'round-hole', 'mortgage', 'finding', 'safety', 'officer', 'Last', 'category', 'occurred', 'Delinquencies', 'far', 'Sykes', 'build', 'Greenberg', '35', 'Los', 'since', 'reported', 'Other', 'decide', 'arena', 'system', 'Mr.', 'milder', 'Lakers', 'One', 'capture', 'comment', 'advocate', 'Darius', 'according', 'web', 'beautiful', 'dirty', 'dominant', 'reporting', 'Later', 'largest', 'Brunson', 'card', '(', 'United', 'second-seeded', 'Ofer', 'Mitchell', 'Tyrese', 'adjust', 'long', 'Jokić', 'Experian', 'analyst', '4-0', 'pay', 'see', 'recorded', 'enough', 'differently', 'dry', 'Center', 'named', 'East', 'surged', 'routed', 'returned', 'normally', 'Vasquez/USA', 'represents', 'looking', '125-114', 'economy.', 'board', 'insisted', 'considering', 'For', 'You', 'When', 'customer', 'lending', 'history', 'hold', 'cardiology', 'thing.', 'Sixers', 'Two', 'spur', 'hand', 'eventually', 'study', '2020', 'migraine', 'fell', 'Eastern', 'Prevention', 'prevent', 'asserted', 'compared', 'foul', 'affecting', 'unclear', 'Lee', 'eye', 'took', 'Knicks', 'exploring', 'playoff', 'ability', 'vice', 'square-peg', 'Ultimately', 'authorized', 'moment', '1', 'providing', 'Oubre', 'Nuggets', 'pay-in-four', 'mild', 'But', 'amount', 'still', 'resuscitated', 'rest', 'duo', 'reason', 'adapt', 'interview', 'While', '2-1', 'ensure', 'Philadelphia', 'infection', 'six', 'buy', 'growth', 'floor', 'Wells', 'day', 'produce', 'face', 'data-aggregation', 'stoked', 'agency', '2021', 'Gary', 'Britain', 'forever', 'opposing', 'public', 'people', 'Bills', 'Paul', 'Jr.', 'April', '3', 'Shane', 'Bankrate', 'confirming', 'season', '500,000', 'judge', 'change', '100', 'somewhat', 'infrastructure', 'result', 'might', 'incorporating', 'Bureau', 'time', 'vaccine-related', 'MVP', 'later', '17', 'problem', 'co-author', 'battle', 'test', 'however', 'resists', 'lengthy', 'shorter-term', 'This', 'know', 'recovery', 'feel', 'Game', '30', 'argues', 'led', 'stop', 'Pay', 'Damar', 'getting', 'situation', 'controversy', 'explained', 'Night', 'U.S.', 'earlier', 'unfortunate', 'career-high', 'saw', 'copy', 'Some', 'Chi', 'similar', 'market', 'argument', 'ever', 'late', 'cannabis', 'economy', 'task', 'none', 'Gordon', 'case', 'Cieslak', 'economist', 'policy', 'reflected', 'published', 'Those', 'Alex', 'huge', 'half', '121-83', 'three-point', 'start', 'added', 'author', 'pay-later', 'penalize', 'interested', 'commercial', 'Orlando', 'independent', 'wish', 'TransUnion', 'loans.inside', 'becoming', 'haul', 'vaccine', '2022', 'exclude', 'creating', 'possible', 'facial', 'rim', 'nearly', ':', 'sale', 'regulate', 'ago', 'All', 'Banks', 'He', 'leg', 'Joel', 'heart', 'competing', '100,000', 'June', 'user', 'biweekly', 'much', 'begin', 'player', 'typically', 'private', 'would', 'helped', 'toward', 'urgency', 'squad', 'including', 'stake', '’', 'attack', 'suffer', 'eight', 'standard', 'low', 'become', 'poured', 'Several', 'pressure', 'warning', 'Silvio', 'walking', 'DiVincenzo', 'star', 'Klarna', 'knocking', 'address', 'handling', '22', 'Magic', 'president', 'triple', 'fuller', 'handled', 'announcement', 'turning', 'line', 'stuffed', 'Cooper', 'respectively', '.', 'repaying', 'per', 'Back', 'remains', 'information', 'installment', 'got', 'hitting', 'After', 'weakness', 'Leslie', 'going', 'And', 'Even', 'immunization', 'work', 'finally', 'undetermined', 'Most', 'Liz', 'combined', 'fatal', 'receive', 'existing', 'Garland', 'agree', 'theory', ',', 'beating', 'large', 'opportunity', 'quickly', 'invisible', 'cause', 'generous', 'show', '15', 'able', 'end', 'business', 'group', 'taking', 'reckoning', 'associated', 'despite', 'If', '”', 'two-time', 'provide', 'Paolo', 'shot', 'Saturday', '33', 'one', 'Heat', 'actually', 'knocked', 'department', 'recover', 'Program', 'Buy', 'repay', 'Elsewhere', 'They', 'Kelly', 'Afterpay', 'substance', 'Reaves', 'health', 'lopsided', 'appear', 'tends', 'unique', 'logjam', 'provides', 'night', 'cardiac', 'momentum', 'division', 'intentional', 'pandemic', 'final', 'solid', 'Western', 'debt', 'quitter', 'Tavares', 'release', '20', 'Dec.', 'state', '–', 'Player', 'lender', 'join', 'Although', 'vaccinated', 'becomes', 'estimate', 'chronic', 'many', 'small', 'traditional', 'credit-reporting', 'force', 'need', 'made', 'pretty', 'limited', 'Existing', 'NBA', 'Got', 'mRNA', '‘', 'notorious', 'former', 'unlike', 'free', 'ready', 'conclusively', 'Josh', 'lawyer', 'Consumer', 'analysis', 'incorporated', 'dead', 'men', 'industry', 'drive', 'outside', 'Maybe', 'whistled', 'leaving', 'adding', 'Austin', 'The', 'grabbing', 'could', 'With', '4', 'temporary', 'Mayo', 'putting', 'company', 'enforcing', 'All-Star', 'went', 'condition', 'Robinson', 'Health', 'million', 'taken', 'encourage', 'regulation', 'created', 'sheet', 'found', 'break', 'oversees', 'treated', 'reminiscent', 'conclusion', 'loan', 'York', 'included', 'insight', 'week', 'mouth', 'double-digit', 'also', 'young', 'disease', 'TODAY', 'pumping', 'continue', 'whether', 'online-shopping', 'penalizing', '3-0', 'report', 'Wednesday', 'argue', 'advantage', 'National', 'emerged', 'arrest', 'front', 'institution', 'really', 'Law', 'A', 'share', 'platform', 'happens', 'holiday', 'popularity', 'Children', 'pushing.', ')', 'making', '13', 'account', '0-3', 'sweater', 'annoying', 'attorney', 'Centers', '2022-23', 'Cameroon-born', 'regulator', 'matchup', 'occurs', 'allow', 'credit', 'Cleveland', 'drop', 'Cavaliers', 'step', 'Ever', 'death', 'Either', '20+', 'remain', 'insurmountable', 'tournament', 'effort', 'flagrant', 'Moderna', 'slender', 'often', 'handle', 'During', 'new', 'cut', 'hoping', 'together', 'year', 'champion', 'flow', 'three', 'specializes', 'Cardiac', 'collapsed', 'researcher', '100-day', 'Wu', 'Dr.', 'hope', 'paid', 'suggest', 'backcourt', 'incorporate', 'analysis.', 'sometimes', 'methamphetamine', 'take', 'duel', 'sophisticated', 'way', 'evolved', 'Hamlin', 'boil', 'Year', 'caused', 'investor', 'recent', 'addressed', 'collect', 'told', 'record-setting', 'center', 'malfunction', 'fan', 'quite', 'lower', 'illicit', 'cover', 'LeBron', 'Traurig', 'Play-In', 'stick', 'alcohol', 'Foster', 'looked', 'There', 'federal', 'sudden', 'direct', 'everything', 'hit', 'specifically', 'possibly', 'examiner', 'underlying', 'Apple', 'create', 'visible', 'Affirm', 'Embiid', 'neither', 'round', 'Precision', 'fatality', 'offered', 'Football', 'left', 'ta', 'closing', 'halftime', 'team', 'Pfizer', 'immediately', 'medical', 'get', 'within', ';', 'Covid', 'lead', 'least', 'elevation', 'thing', 'joining', 'regulatory', 'Angeles', 'four', 'Philly', 'director', 'suffering', 'behind', 'score', 'certificate', 'fit-for-purpose', 'Protection', 'maybe', 'visitor', 'broader', 'job', 'declined', 'Denver', 'Association', 'probably', 'toxicology', 'model', 'disappointment', 'misinformation', 'wrote', 'James', 'financial', 'reigning', 'try', 'majority', 'reached', 'FICO', 'defense', 'protected', 'think', 'Donte', 'nimble', 'superstar', 'noted', 'Anthony', 'payment', 'tried', 'senior', 'outscored', 'linked', 'series', 'started', 'nothing', 'athlete', 'returning', 'two', 'significantly'}\n",
            "['Joel Embiid led Philadelphia 76ers squad inspired 125-114 Game 3 win New York Knicks , despite confirming game treated mild case Bell ’ palsy . The reigning NBA MVP scored playoff career-high 50 point crucial victory go along eight rebound four assist , getting 76ers board first time opening round series . Embiid explained game started suffering Bell ’ palsy symptom “ day two ” Philadelphia ’ Play-In tournament game Miami Heat April 17 . “ I bad migraine thought nothing , ” told reporter . “ It ’ pretty annoying , know , left side face , mouth eye . So yeah , ’ tough . “ But I ’ quitter , got ta keep fighting . But yeah , ’ unfortunate . That ’ way I look . But ’ excuse . Got ta keep pushing. ” Bell ’ palsy condition cause sudden weakness facial muscle . It cause one half face appear droop , smile one-sided , eye affected side resists closing . The condition normally temporary , Embiid said timetable recovery , adding “ could week , could months. ” He also said affecting vision putting drop eye prevent becoming dry , though still managed smile situation . “ I got beautiful face . I ’ like mouth looking way , ” said Cameroon-born superstar . Embiid involved moment controversy first quarter knocked floor defense . He reached grabbed opposing center Mitchell Robinson ’ leg , injured play seen leaving arena walking boot . Embiid whistled flagrant 1 foul insisted postgame incident intentional , though New York guard Donte DiVincenzo asserted “ dirty ” play . Embiid drive rim game . Embiid drive rim game . Matt Slocum/AP With second-seeded Knicks winning first two game Eastern Conference series , Sixers needed huge effort Game 3 front home fan . After Knicks emerged halftime slender three-point advantage , Embiid took crucial third quarter , scoring 18 point knocking four triple Philly outscored New York 16 quarter . Point guard Tyrese Maxey – named NBA ’ Most Improved Player Wednesday – added 25 point Sixers Kelly Oubre Jr. 15 . The Knicks led All-Star Jalen Brunson , poured 39 point dished 13 assist . Josh Hart also scored 20 New York , enough get line visitor fell , still hold 2-1 lead series . Lakers risk sweep , Magic get win column Elsewhere Thursday night , reigning champion Denver Nuggets handled Los Angeles Lakers road , beating LeBron James Co. 112-105 take dominant 3-0 lead series . This matchup far reminiscent 2023 Western Conference final , saw Denver sweep Lakers 4-0 . No team NBA history playoff series 0-3 , LA seemingly insurmountable task hand . The Nuggets led Aaron Gordon 29 point three player score least 20 . The starter stuffed stat sheet , Gordon , Michael Porter Jr. two-time MVP Nikola Jokić grabbing double-digit rebound addition 20+ point haul . Anthony Davis 33 point 15 board James Austin Reaves scored 26 22 respectively loss hoping least extend series win Game 4 Saturday . Jokić battle Davis duel two star big men . Jokić battle Davis duel two star big men . Gary A. Vasquez/USA TODAY Sports/Reuters Back East , Orlando Magic lopsided Game 3 Cleveland Cavaliers pick first victory series . Led 2022-23 Rookie Year Paolo Banchero , 31 point 14 rebound , Magic routed Cavs 121-83 . Cleveland maintains 2-1 lead series get Thursday ’ disappointment saw star backcourt duo Darius Garland Donovan Mitchell held combined 18 point .', 'There evidence mRNA Covid vaccine cause fatal cardiac arrest deadly heart problem teen young adult , Centers Disease Control Prevention report published Thursday show . Ever since vaccine Pfizer Moderna authorized late 2020 , anti-vaccination group U.S. blamed shot fatal heart problem young athlete . One notorious example vaccine misinformation involves Buffalo Bills safety Damar Hamlin , 26 , 2023 collapsed “ Monday Night Football ” result cardiac arrest . Hamlin resuscitated field eventually recovered . He returned play Bills last season . “ When Damar Hamlin went , immediately comment getting made possibly vaccine-related , ” said study co-author Dr. Paul Cieslak , medical director communicable disease immunization Oregon Health Authority ’ public health division . “ This kind trying address analysis. ” The finding new report come analysis nearly 1,300 death certificate Oregon resident age 16 30 died heart condition unknown reason June 1 , 2021 , Dec. 31 , 2022 . During time period , nearly 1 million teen young adult state gotten Covid vaccine , author wrote . The author refined focus people got mRNA Covid vaccine Pfizer Moderna died within 100 day vaccinated . Out 40 death occurred among people got mRNA Covid vaccine , three occurred within time frame . Two death attributed chronic underlying health condition . The third death recorded “ undetermined natural cause , ” toxicology test returning negative alcohol , cannabis , methamphetamine illicit substance . The medical examiner could neither confirm exclude Covid vaccination cause death ; however , none death certificate attributed fatality vaccine . While remains unclear whether vaccine caused third death , Cieslak noted analysis showed 30 people died Covid time frame , majority vaccinated . “ When ’ balancing risk benefit , look go , ‘ You got bet vaccine , ’ ” said . Dr. Leslie Cooper , chair cardiology department Mayo Clinic , involved study , said researcher actually “ quite generous ” analysis , adding 100-day time frame following vaccination large one . “ They went beyond try capture possible cardiac death vaccination , ” said . Cardiac arrest occurs heart stop beating pumping blood rest body . It ’ heart attack , happens blood flow heart ’ muscle becomes limited blocked , myocarditis , inflammation heart muscle . For people 35 , cause cardiac arrest often unclear . It could result genetic defect heart malfunction , problem valve heart . Even lengthy time frame , Cooper added , analysis show risk sudden death young adult vaccinated significantly lower risk sudden cardiac death cause — 1 500,000 per year , compared 1 100,000 per year , according estimate . The data show “ signal elevation cardiac death associated Covid mRNA vaccine , ” said . “ Their conclusion quite reasonable. ” No vaccine ever conclusively linked sudden cardiac death , said Dr. Ofer Levy , director Precision Vaccines Program Boston Children ’ Hospital . Although mRNA vaccine linked small risk myocarditis , heart condition tends much milder typically seen traditional myocarditis Covid infection , added , people fully recover within day . “ This add evidence people ’ drop dead getting mRNA Covid vaccine , ” Levy said study .', 'Shoppers recent year embraced “ buy , pay later ” loan easy , interest-free way purchase everything sweater concert ticket . The loan typically reported consumer ’ credit report , however , reflected credit score . That stoked concern user might taking outsize amount debt invisible lender financial regulator . So February , Apple announced would start reporting loan made Apple Pay Later program Experian , one three major U.S. credit bureau , looked like watershed moment fast-growing “ buy , pay later ” category . But none major pay-later provider followed Apple ’ lead . And credit bureau lender say interested finding way work together , gulf two side remains wide — much pay-later firm exploring creating alternative credit bureau handle loans.inside “ I ’ seen really meaningful progress , ” said David Sykes , chief commercial officer Klarna , one largest pay-later firm . “ Buy , pay later ” loan allow consumer pay purchase time , often four installment six week , interest free . They surged popularity pandemic , helped fuel online-shopping boom . The rapid growth continued : The retail industry attributed record-setting holiday sale part popularity pay-later product . But economist Wells Fargo warned last year “ phantom debt ” pay-later loan “ could create substantial problem consumer broader economy. ” The credit bureau argue incorporating pay-later loan reporting system would benefit consumer , could build credit repaying loan time , lender , would gain fuller insight consumer ’ borrowing . The pay-later provider agree — theory . But worry reporting loan would end hurting customer . Existing scoring model penalize borrower take many loan short period . That could problem pay-later industry , unlike credit card purchase , pay-later transaction treated loan . Some consumer advocate share concern . “ The credit reporting system system assumes monthly payment , assumes longer-term loan , ’ really cut handle ‘ buy , pay later , ’ ” said Chi Chi Wu , senior attorney National Consumer Law Center . “ It ’ square-peg , round-hole kind thing. ” The consumer reporting industry United States evolved decade become complex web independent sometimes competing player . Financial institution — bank , mortgage broker , auto lender others — report information loan three major credit bureau : Equifax , Experian TransUnion . Those bureau compile data provide lender consumer , also company like FICO VantageScore , use produce credit score . The major credit bureau say addressed pay-later industry ’ concern two year ago created category loan . That allow FICO VantageScore adjust model account loan ’ unique characteristic — ultimately incorporate credit score without penalizing user . ( For , loan would included consumer ’ credit report visible lender incorporated scoring model . ) “ It ’ long road , I think finally hitting turning point momentum toward getting data reported , ” said Liz Pagel , senior vice president TransUnion oversees company ’ consumer lending business . Our business reporter . Times journalist allowed direct financial stake company cover . The pay-later industry , however , argues credit-reporting system still ’ ready . For one thing , credit bureau primarily receive data lender monthly , whereas pay-later loan typically paid biweekly . ( All three major credit bureau said monthly reporting default , lender could report frequently wish . ) “ It ’ fit-for-purpose yet , ” Mr. Sykes Klarna said . “ And ’ seen anything bureau suggest ’ be. ” Klarna report loan TransUnion Experian Britain , system work somewhat differently . A rival , Affirm , report longer-term loan Experian United States say hope report shorter-term loan “ eventually. ” Other major pay-later provider , like Afterpay , PayPal Zip , said concern credit reporting system ’ handling pay-later loan resolved . “ Our member continue say ’ still inadequate , ” said Penny Lee , president Financial Technology Association , represents many largest pay-later company . That argument took hit February , however , Apple announced would begin reporting loan made “ Apple Pay Later ” product — essentially copy pay-in-four loan offered Klarna , Afterpay similar firm — Experian . Apple declined comment , earlier news release said loan would immediately incorporated credit score , saw move step toward “ providing user opportunity build credit. ” Silvio Tavares , chief executive VantageScore , said interview Apple ’ announcement showed credit-reporting system ’ ability handle pay-later loan . “ It ’ tough sophisticated Apple , ” said . Far joining Apple , however , pay-later provider appear exploring system outside traditional credit reporting infrastructure . Last year , two former industry executive founded Qlarifi , data-aggregation platform specifically pay-later loan . ( Mr. Sykes Klarna investor . ) Alex Naughton , left Klarna last year help found Qlarifi chief executive , portrays company nimble , tech-savvy credit-reporting approach . It able collect share data real time rather monthly , standard major credit bureau . “ I ’ think existing infrastructure able adapt quickly , ” said . The lender credit agency agree pay-later loan unlikely remain outside credit scoring system forever . But unclear break logjam . Ultimately , industry expert said , probably boil one two thing : Either regulator force pay-later firm start reporting market force . “ Either ’ going market shift ’ going regulatory shift , ” said Shane Foster , lawyer Greenberg Traurig specializes financial regulation . Regulatory action seems unlikely soon , least federal level . The Consumer Financial Protection Bureau hinted would like see pay-later loan incorporated credit reporting system . But agency oversees credit reporting industry — enforcing policy ensure data accurate consumer right protected — ’ tried require private company provide data bureau . Several state , including California , taken action regulate pay-later industry , others , including New York , considering . But effort ’ immediately require loan reported credit bureau . Banks traditional lender report credit bureau data helpful lending decision provides stick encourage borrower repay : If ’ , credit score suffer . Pay-later provider may feel much pressure begin reporting business growing consumer making payment , said Ted Rossman , senior industry analyst Bankrate . But economy slows consumer start falling behind payment , lender might decide need join credit reporting system judge borrower ’ reliability . “ Delinquencies pretty low , job market ’ solid , maybe ’ created urgency , ” said . “ ‘ Buy , pay later ’ yet real delinquency reckoning . People keep warning . Maybe ultimately spur change . ”']\n"
          ]
        }
      ]
    },
    {
      "cell_type": "markdown",
      "source": [
        "## Mengklasifikasikan teks baru"
      ],
      "metadata": {
        "id": "QmPheO5_NKQI"
      }
    },
    {
      "cell_type": "markdown",
      "source": [
        "- Teks baru dimasukkan sebagai bahan uji untuk pengklasifikasian topik berdasarkan kode sebelumnya dan akan melalui proses yang sama, seperti tokenisasi, lematisasi, dan penghilangan stopwords. Perbedaan utama terletak pada langkah terakhir, di mana digunakan CountVectorizer dari library sklearn untuk menghasilkan representasi numerik dari kata-kata dalam teks baru dan teks sebelumnya. Representasi ini akan menjadi fitur yang dapat digunakan dalam model klasifikasi selanjutnya, mempersiapkan data untuk analisis dan pemodelan yang lebih lanjut terkait dengan topik yang relevan dari teks tersebut."
      ],
      "metadata": {
        "id": "kqeDdfn5gU6N"
      }
    },
    {
      "cell_type": "code",
      "source": [
        "# A new text to be classified based on topic\n",
        "query_text = \"Cristiano Ronaldo came off the bench to earn Manchester United a hard-fought 2-1 victory at Everton in the Premier League on Sunday, taking his career goal tally to 700 in the process. Just as United did last weekend in their derby mauling at the hands of local rivals Manchester City, they again found themselves behind early on at Goodison Park after Alex Iwobi curled a sublime strike into the net from 20 metres.\"\n",
        "query_words = word_tokenize(query_text)\n",
        "query_words_clean = [lemmatizer.lemmatize(word) for word in query_words if word not in set(stopwords.words('english'))]\n",
        "query_words_corpus = [word for word in query_words_clean if word in set(bow_keys)]\n",
        "query_text_corpus = ' '.join(query_words_corpus)\n",
        "corpus_texts.append(query_text_corpus)\n",
        "\n",
        "from sklearn.feature_extraction.text import CountVectorizer\n",
        "cv = CountVectorizer() ## Creating Object for CountVectorizer\n",
        "bow_vectors = cv.fit_transform(corpus_texts).toarray()\n",
        "print(bow_vectors)\n",
        "print(len(bow_vectors[0]))"
      ],
      "metadata": {
        "colab": {
          "base_uri": "https://localhost:8080/"
        },
        "id": "j_FjnP-PkM-g",
        "outputId": "7609c0c3-353b-4477-f834-6f7ade640bec"
      },
      "execution_count": null,
      "outputs": [
        {
          "output_type": "stream",
          "name": "stdout",
          "text": [
            "[[0 0 1 ... 0 0 0]\n",
            " [2 3 0 ... 1 4 0]\n",
            " [0 0 0 ... 0 0 1]\n",
            " [0 0 0 ... 0 0 0]]\n",
            "932\n"
          ]
        }
      ]
    },
    {
      "cell_type": "markdown",
      "source": [
        "## Hasil Klasifikasi berdasarkan Kemiripan yang Paling Tinggi\n",
        "* Dilakukan normaliasasi pada vektor BoW untuk mengurangi efek panjang teks, kemudian kemiripan antara teks baru dan teks sebelumnya dihitung menggunakan dot product. Kemiripan ini digunakan untuk menentukan topik yang paling sesuai untuk teks baru, dengan identifikasi indeks yang memiliki nilai kemiripan tertinggi dari vektor hasil dot product. Berdasarkan indeks tersebut, teks baru diklasifikasikan ke dalam topik olahraga, kesehatan, atau keuangan. Metode ini memanfaatkan representasi numerik dan pengukuran kemiripan untuk klasifikasi topik secara otomatis berdasarkan data yang ada sebelumnya."
      ],
      "metadata": {
        "id": "dx6PW5u93IlM"
      }
    },
    {
      "cell_type": "code",
      "source": [
        "# Normalize the BoW vectors\n",
        "bow_texts_norm = []\n",
        "for bow in bow_vectors:\n",
        "  length = (sum(i*i for i in bow)) ** 0.5\n",
        "  bow_norm = bow / length\n",
        "  bow_texts_norm.append(bow_norm)\n",
        "\n",
        "# Compute similarity using dot product\n",
        "similarity_vector = []\n",
        "bow_norm_query = bow_texts_norm[3]\n",
        "for bow in bow_texts_norm[:3]:\n",
        "  similarity_vector.append(sum(i*j for i,j in zip(bow,bow_norm_query)))\n",
        "print(similarity_vector)\n",
        "\n",
        "# Find the highest similarity\n",
        "id_max_sim = similarity_vector.index(max(similarity_vector))\n",
        "if (id_max_sim == 0):\n",
        "  print (\"Teks diklasifikasikan termasuk ke dalam topik Olahraga\")\n",
        "elif (id_max_sim == 1):\n",
        "  print (\"Teks diklasifikasikan termasuk ke dalam topik Kesehatan\")\n",
        "elif (id_max_sim == 2):\n",
        "  print (\"Teks diklasifikasikan termasuk ke dalam topik Keuangan\")"
      ],
      "metadata": {
        "colab": {
          "base_uri": "https://localhost:8080/"
        },
        "id": "bv3Zx7M3hFuK",
        "outputId": "22f67910-14a6-4109-af6b-85181b4b09e9"
      },
      "execution_count": null,
      "outputs": [
        {
          "output_type": "stream",
          "name": "stdout",
          "text": [
            "[0.049482116992513606, 0.007455216823969416, 0.04047062171965167]\n",
            "Teks diklasifikasikan termasuk ke dalam topik Olahraga\n"
          ]
        }
      ]
    },
    {
      "cell_type": "markdown",
      "source": [
        "Dikarenakan hasil perhitungan dot product antara vektor representasi teks baru dengan teks sebelumnya paling tinggi pada indeks 0, maka teks tersebut diklasifikasikan ke dalam topik **Olahraga**. Walaupun pada teks artikel yang diberikan adalah mengenai bola basket dan untuk teks baru yang ditambahkan mengenai sepak bola, keduanya memiliki similarity paling tinggi dibanding dengan yang lainnya karena sama sama pada topik Olahraga."
      ],
      "metadata": {
        "id": "Y_QyaVw4KD3O"
      }
    }
  ]
}